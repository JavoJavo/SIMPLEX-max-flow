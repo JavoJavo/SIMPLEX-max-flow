{
  "cells": [
    {
      "cell_type": "markdown",
      "metadata": {
        "id": "keqoit9jCm2n"
      },
      "source": [
        "# Metodo simplex\n",
        "\n",
        "Como hemos visto, el algoritmo del metodo simplex consta de pasos que son relativamente sencillos\n",
        "\n",
        "* poner en forma estandar y cacnonica\n",
        "* pivotear\n",
        "* operaciones elementales de matrices\n",
        "* revisar condicion de paro\n",
        "\n",
        "Aunque se vea relativamente simple, implementar los pasos puede ser complicado, y si no se tiene cuidado, la complejidad del algoritmo podria incrementar, bajando su eficiencia de tiempo (de por si no hay una complejidad fija para el simplex).\n",
        "\n",
        "\n",
        "## Boceto del simplex\n",
        "\n",
        "Ahora que ya sabemos los pasos, vamos ahora a pensar en como poder solucionar el simplex"
      ]
    },
    {
      "cell_type": "markdown",
      "metadata": {
        "id": "qfjvvJWeCm3E"
      },
      "source": [
        "```\n",
        "input : forma estandar y canonica\n",
        "A[-1] = z\n",
        "A[:][-1] = restricciones\n",
        "\n",
        "\n",
        "sacar pivote:\n",
        "    sacar columna, con el numero mas pequeño en Z\n",
        "    division A_i/b_i y el min es mi fila\n",
        "    el min de la division tiene que ser  > 0\n",
        "\n",
        "\n",
        "aplicar operaciones elementales:\n",
        "    hacer uno la fila de mi pivote\n",
        "    hacer 0 arriba y abajo del pivote:\n",
        "        multiplicar por el elemento que se desea hacer 0 y restarserlo a la fila correspondiente\n",
        "    \n",
        "\n",
        "revisar condicion de paro:\n",
        "    que ya no hubiera numeros negativos en Z\n",
        "\n",
        "si no condicion: regresar a sacar pivote\n",
        "\n",
        "Regresa: coeficientes de las variables basicas\n",
        "```"
      ]
    },
    {
      "cell_type": "markdown",
      "metadata": {
        "id": "ncKqBmvJCm3G"
      },
      "source": [
        "## ¿Cómo podemos representar todo esto en una computadora?\n"
      ]
    },
    {
      "cell_type": "markdown",
      "metadata": {
        "id": "O1XG9NGhCm3J"
      },
      "source": [
        "Una matriz es un arreglo de arreglos.\n",
        "\n",
        "```\n",
        "x1   x2     RHS\n",
        "a_11 a_12 | a_13\n",
        "a_21 a_22 | a_23 \n",
        "-----------\n",
        "z_1  z_2  | 0 <- z \n",
        "```\n",
        "En lugar de tomar toda la matriz, tomar  submatriz `A[:-1]` y RHS `A[:-1][-1]` y operaciones elementales `A`\n",
        "\n",
        "\n",
        "Para las divisiones, podemos arregarlo a la Matriz o mantenerlo como un arreglo separado\n",
        "\n",
        "guardar indices del pivote, tupla, dos numeros, etc."
      ]
    },
    {
      "cell_type": "markdown",
      "metadata": {
        "id": "5RMiSKf5Cm3M"
      },
      "source": [
        "Y con estas representaciones, que mencionaron, que tipo de operaciones podemos hacer para el metodo simplex?"
      ]
    },
    {
      "cell_type": "markdown",
      "metadata": {
        "id": "qbvPVWXOCm3O"
      },
      "source": [
        "`importar scipy linprog`\n",
        "\n",
        "sumas, restas, escalamiento, la mayoria de operaciones matriciales"
      ]
    },
    {
      "cell_type": "markdown",
      "metadata": {
        "id": "tihDk26vCm3R"
      },
      "source": [
        "## Primeros pasos de la implementacion\n",
        "\n",
        "Ahora que tenemos las ideas puestas, podemos pasar a implementar el metodo simplex en su lenguaje de programacion preferido ~~python~~. Para esto tenemos que pensar en que orden vamos a implementar los metodos. "
      ]
    },
    {
      "cell_type": "code",
      "execution_count": null,
      "metadata": {
        "id": "BnI71PFZCm3Y"
      },
      "outputs": [],
      "source": [
        "import numpy as np\n",
        "from typing import Any, List\n",
        "from typing_extensions import Self\n",
        "from dataclasses import dataclass\n",
        "\n",
        "from typing import Tuple\n",
        "\n",
        "\n",
        "@dataclass\n",
        "class Solucion:\n",
        "    indice: Tuple[int, int]\n",
        "    valor_RHS: float\n",
        "    nombre: str  # var_1, x_2\n",
        "\n",
        "\n",
        "class Simplex:\n",
        "    \"\"\"\n",
        "    El metodo simplex creado por estudiantes de la clase de PL de la ENES Morelia 2022 c:\n",
        "    \"\"\"\n",
        "\n",
        "    def __call__(self, A: np.ndarray, w=False) -> List[Solucion]:\n",
        "\n",
        "        self.A = A\n",
        "        self.A.astype(float)\n",
        "\n",
        "        n, m = self.A.shape\n",
        "        self.pivotes = []\n",
        "        if w:\n",
        "            self.__calc_w()\n",
        "            self.__simplex()\n",
        "            # elimiar algo (W)\n",
        "\n",
        "        self.__simplex()\n",
        "        print(self)\n",
        "\n",
        "        return self.__construir_sols()\n",
        "\n",
        "    def __construir_sols(self) -> List[Solucion]:\n",
        "        sols = []\n",
        "        for i, j in self.pivotes:\n",
        "            sols.append(Solucion((i, j), self.A[i, -1], f\"x_{j + 1}\"))\n",
        "        return sols\n",
        "\n",
        "    def eval_z(self):\n",
        "        variables = np.array([self.A[i, -1] for i, _ in self.pivotes])\n",
        "        return np.dot(variables, self.A[-1, :-1])\n",
        "\n",
        "    def __calc_w(self):\n",
        "        #\"\"\"\n",
        "        #Su funcion para calcular la funcion w aqui\n",
        "        #\"\"\"\n",
        "        #...\n",
        "        #def __aniadir_w(self):\n",
        "\n",
        "        self.A = np.append(A, [A[-1,:]-sum(A)], axis=0)\n",
        "\n",
        "    def __revisar_columnas_negativas(self) -> bool:\n",
        "        n, m = self.A.shape\n",
        "        for col in range(m - 1):\n",
        "            if self.A[0][col] >= 0:\n",
        "                continue\n",
        "\n",
        "            count = 0\n",
        "\n",
        "            for row in range(n - 1):\n",
        "                if self.A[row, col] <= 0:\n",
        "                    count += 1\n",
        "\n",
        "            if count == n - 1:\n",
        "                return True\n",
        "        return False\n",
        "\n",
        "    def __condicion_de_paro(self) -> bool:\n",
        "        return (\n",
        "            all(elem >= 0 for elem in self.A[-1, :-1])\n",
        "            or self.__revisar_columnas_negativas()\n",
        "        )\n",
        "\n",
        "    #def __es_pivote(self) -> List[Tuple[int, int]]:\n",
        "     #   \"\"\"su funcion de tarea\"\"\" \n",
        "      #  ...\n",
        "\n",
        "    def __es_pivote_ayuda(self, columna):\n",
        "        \"\"\"\n",
        "        funcion para saber si cierta columna es un pivote y en \n",
        "        su caso regresar su índice, si no lo es regresar False\n",
        "        \n",
        "        Regresa\n",
        "        --------------\n",
        "        el índice de fila en caso de que la columna sí sea pivote\n",
        "        \"\"\"\n",
        "        uno_y_ceros = [0,0]\n",
        "        fila_uno = None\n",
        "        for i,el in enumerate(columna):\n",
        "          if el == 0:\n",
        "            uno_y_ceros[0] += 1\n",
        "          elif el == 1:\n",
        "            uno_y_ceros[1] += 1\n",
        "            fila_uno = i\n",
        "          else:\n",
        "            return False\n",
        "        if uno_y_ceros[0] == len(columna)-1 and uno_y_ceros[1] == 1:\n",
        "          return fila_uno\n",
        "        return False\n",
        "        \n",
        "    def __es_pivote(self):\n",
        "        \"\"\"\n",
        "        funcion para saber quienes son los pivotes\n",
        "        \n",
        "        Regresa\n",
        "        --------------\n",
        "        los indices de quienes son pivotes\n",
        "        \"\"\"\n",
        "        self.VB = []\n",
        "        for m in range(self.A.shape[1]):\n",
        "          pivote_n = self.__es_pivote_ayuda(self.A[:,m])\n",
        "          if pivote_n:\n",
        "            self.VB.append([pivote_n,m])\n",
        "        return self.VB\n",
        "\n",
        "\n",
        "    def __sacar_pivote(self) -> Tuple[int, int]:\n",
        "        # sacar el indice mas pequeño de Z\n",
        "        col_index = np.argmin(self.A[-1])\n",
        "        # dividr los indices de la col por el RHS\n",
        "        divisiones = []\n",
        "\n",
        "        for elem in self.A[:-1]:\n",
        "            divisiones.append(\n",
        "                np.inf if elem[col_index] <= 0 else elem[-1] / elem[col_index]\n",
        "            )\n",
        "\n",
        "        fila_index = np.argmin(divisiones)\n",
        "\n",
        "        if divisiones.count(divisiones[fila_index]) > 1:\n",
        "            fila_index = np.argmin(self.A[:-1, -1])\n",
        "\n",
        "        return fila_index, col_index\n",
        "\n",
        "    def __operaciones_elementales(self, fila_index: int, col_index: int):\n",
        "        dividendo = self.A[fila_index, col_index]\n",
        "\n",
        "        self.A[fila_index] /= dividendo\n",
        "\n",
        "        for i in range(len(self.A)):\n",
        "            if i == fila_index:\n",
        "                continue\n",
        "\n",
        "            elem = self.A[i, col_index]\n",
        "            lista_aux = [elem * _ for _ in self.A[fila_index]]\n",
        "            self.A[i] = [\n",
        "                (dividendo * self.A[i, _]) - lista_aux[_] for _ in range(len(lista_aux))\n",
        "            ]\n",
        "\n",
        "    def __simplex(self):\n",
        "        self.pivotes = self.__es_pivote()\n",
        "        while not self.__condicion_de_paro():\n",
        "            pivote_i, pivote_j = self.__sacar_pivote()\n",
        "            self.__operaciones_elementales(pivote_i, pivote_j)\n",
        "            # self.__intercambio(pivote_i, pivote_j)\n",
        "            self.pivotes = (\n",
        "                self.__es_pivote()\n",
        "            )  # estamos reemplazando los pivotes en lugar de entra variable y sale variable\n",
        "\n",
        "    def __repr__(self) -> str:\n",
        "        return \" \".join(\n",
        "            f\"x_{self.pivotes[i][1] + 1} = {self.A[self.pivotes[i][0]][-1]}\"\n",
        "            for i in range(len(self.pivotes))\n",
        "        )\n"
      ]
    },
    {
      "cell_type": "code",
      "execution_count": null,
      "metadata": {
        "id": "VB43lZQVCm3g",
        "outputId": "e068b324-d3cf-4cf4-977d-bd8daf2223e2",
        "colab": {
          "base_uri": "https://localhost:8080/"
        }
      },
      "outputs": [
        {
          "output_type": "execute_result",
          "data": {
            "text/plain": [
              "array([[ 4,  2,  1,  0,  0,  0],\n",
              "       [ 5,  3,  0, -1,  1,  0],\n",
              "       [ 2,  0,  0,  0,  0,  1],\n",
              "       [15,  6,  0,  0,  0,  0]])"
            ]
          },
          "metadata": {},
          "execution_count": 26
        }
      ],
      "source": [
        "tmp = np.array(\n",
        "    [[4, 2, 1, 0, 0, 0], [5, 3, 0, -1, 1, 0], [2, 0, 0, 0, 0, 1], [15, 6, 0, 0, 0, 0]]\n",
        ")\n",
        "tmp"
      ]
    },
    {
      "cell_type": "code",
      "execution_count": null,
      "metadata": {
        "id": "akmHtSUfCm3o",
        "outputId": "aed3301e-d476-42ff-8a60-b700a92c1526",
        "colab": {
          "base_uri": "https://localhost:8080/"
        }
      },
      "outputs": [
        {
          "output_type": "stream",
          "name": "stdout",
          "text": [
            "x_5 = 0 x_6 = 1\n"
          ]
        }
      ],
      "source": [
        "simplex = Simplex()\n",
        "sols =simplex(tmp)"
      ]
    },
    {
      "cell_type": "code",
      "execution_count": null,
      "metadata": {
        "id": "3opkqV9WCm3q",
        "outputId": "ae05b3a7-d01c-46b6-a1f6-84eb30c0ab79",
        "colab": {
          "base_uri": "https://localhost:8080/"
        }
      },
      "outputs": [
        {
          "output_type": "execute_result",
          "data": {
            "text/plain": [
              "[Solucion(indice=(1, 4), valor_RHS=0, nombre='x_5'),\n",
              " Solucion(indice=(2, 5), valor_RHS=1, nombre='x_6')]"
            ]
          },
          "metadata": {},
          "execution_count": 28
        }
      ],
      "source": [
        "sols"
      ]
    },
    {
      "cell_type": "code",
      "execution_count": null,
      "metadata": {
        "id": "WIcReQh8Cm3s",
        "outputId": "99ae8bff-1034-4fa3-9d74-f07632a19772",
        "colab": {
          "base_uri": "https://localhost:8080/"
        }
      },
      "outputs": [
        {
          "output_type": "stream",
          "name": "stdout",
          "text": [
            "x_5 = 30 x_6 = 8\n"
          ]
        }
      ],
      "source": [
        "matriz_examen = np.array([\n",
        "    [4,2,1,0,0,0, 24],\n",
        "    [5,3,0,-1,1,0, 30],\n",
        "    [2,0,0,0,0,1, 8],\n",
        "    [15,6,0,0,0,0,0]\n",
        "])\n",
        "simplex = Simplex()\n",
        "sols = simplex(matriz_examen)\n"
      ]
    },
    {
      "cell_type": "code",
      "execution_count": null,
      "metadata": {
        "id": "soOq0X28Cm3x",
        "outputId": "b1c40be8-7ace-45b8-8680-311bfaac7a1c",
        "colab": {
          "base_uri": "https://localhost:8080/"
        }
      },
      "outputs": [
        {
          "output_type": "execute_result",
          "data": {
            "text/plain": [
              "[Solucion(indice=(1, 4), valor_RHS=30, nombre='x_5'),\n",
              " Solucion(indice=(2, 5), valor_RHS=8, nombre='x_6')]"
            ]
          },
          "metadata": {},
          "execution_count": 31
        }
      ],
      "source": [
        "sols"
      ]
    },
    {
      "cell_type": "code",
      "execution_count": null,
      "metadata": {
        "id": "2i7DgcAvCm35",
        "outputId": "2c11d9ce-a8a4-47e1-e821-973953ece0b0",
        "colab": {
          "base_uri": "https://localhost:8080/"
        }
      },
      "outputs": [
        {
          "output_type": "stream",
          "name": "stdout",
          "text": [
            "x_2 = 60.0\n"
          ]
        }
      ],
      "source": [
        "m1 = np.array([\n",
        "    [2,1,1,0,120],\n",
        "    [1,1,0,1,90],\n",
        "    [-80, -50, 0, 0, 0]\n",
        "], dtype = float)\n",
        "\n",
        "simplex = Simplex()\n",
        "sols = simplex(m1)\n",
        "\n",
        "# x_1 = 30 x_2 = 60"
      ]
    },
    {
      "cell_type": "code",
      "execution_count": null,
      "metadata": {
        "id": "dX_94gmWCm37",
        "outputId": "1bbaa297-7237-4ba2-8c6a-2d4a1bab600c",
        "colab": {
          "base_uri": "https://localhost:8080/"
        }
      },
      "outputs": [
        {
          "output_type": "execute_result",
          "data": {
            "text/plain": [
              "[Solucion(indice=(1, 1), valor_RHS=60.0, nombre='x_2')]"
            ]
          },
          "metadata": {},
          "execution_count": 33
        }
      ],
      "source": [
        "sols"
      ]
    },
    {
      "cell_type": "code",
      "execution_count": null,
      "metadata": {
        "id": "ZabG1i2UCm39",
        "outputId": "75eefa8b-6372-4a26-c9dd-f9b809245d08",
        "colab": {
          "base_uri": "https://localhost:8080/"
        }
      },
      "outputs": [
        {
          "output_type": "stream",
          "name": "stdout",
          "text": [
            "\n"
          ]
        },
        {
          "output_type": "execute_result",
          "data": {
            "text/plain": [
              "[]"
            ]
          },
          "metadata": {},
          "execution_count": 34
        }
      ],
      "source": [
        "m2 = np.array([\n",
        "    [3,3,1,0,120],\n",
        "    [6, 3, 0, 1, 180],\n",
        "    [-400, -300, 0, 0, 0]\n",
        "], dtype=float)\n",
        "\n",
        "simplex = Simplex()\n",
        "simplex(m2)\n",
        "\n",
        "## x_1 = 20 x_2 = 20"
      ]
    },
    {
      "cell_type": "code",
      "execution_count": null,
      "metadata": {
        "id": "rMSYaBCVCm3_",
        "outputId": "c679dba4-ea74-4a7e-ca69-c7ebcabbc00a",
        "colab": {
          "base_uri": "https://localhost:8080/"
        }
      },
      "outputs": [
        {
          "output_type": "stream",
          "name": "stdout",
          "text": [
            "x_2 = 10.0 x_5 = 60.0\n"
          ]
        },
        {
          "output_type": "execute_result",
          "data": {
            "text/plain": [
              "[Solucion(indice=(1, 1), valor_RHS=10.0, nombre='x_2'),\n",
              " Solucion(indice=(2, 4), valor_RHS=60.0, nombre='x_5')]"
            ]
          },
          "metadata": {},
          "execution_count": 37
        }
      ],
      "source": [
        "m3 = np.array([\n",
        "    [-2, 0, 6,  2, 0, -3, 1, 20],\n",
        "    [-4, 1, 7,  1, 0, -1, 0, 10],\n",
        "    [0, 0, -5,  3, 1, -1, 0, 60],\n",
        "    [0, 0, 13, -6, 0,  2, 0, 110]\n",
        "], dtype=float)\n",
        "\n",
        "simplex = Simplex()\n",
        "simplex(m3)"
      ]
    },
    {
      "cell_type": "markdown",
      "metadata": {
        "id": "RCYjckxuCm4C"
      },
      "source": [
        "## Cosas para probar el simplex ya con $w$\n",
        "Ejemplo de la pagina 95"
      ]
    },
    {
      "cell_type": "code",
      "execution_count": null,
      "metadata": {
        "id": "0Oj8FORNCm4C"
      },
      "outputs": [],
      "source": [
        "#aqui hay que calcular la w\n",
        "matrix = np.array([\n",
        "    [1,-2,-3,-2,3],\n",
        "    [1,-1,2,1,11],\n",
        "    [2,-3,1,1,0]\n",
        "])"
      ]
    },
    {
      "cell_type": "code",
      "execution_count": null,
      "metadata": {
        "id": "IHsUJMrhCm4H",
        "outputId": "ca70efa1-cfe9-4dbc-e634-3d2b6b8c5523",
        "colab": {
          "base_uri": "https://localhost:8080/"
        }
      },
      "outputs": [
        {
          "output_type": "execute_result",
          "data": {
            "text/plain": [
              "array([[0.57054904, 0.78699798, 0.35989446],\n",
              "       [0.00513952, 0.38459778, 0.30962712],\n",
              "       [0.98535879, 0.66555649, 0.24309702]])"
            ]
          },
          "metadata": {},
          "execution_count": 16
        }
      ],
      "source": [
        "A = np.random.random(size=(3, 3))\n",
        "A"
      ]
    },
    {
      "cell_type": "code",
      "execution_count": null,
      "metadata": {
        "id": "CqBFIsw4Cm4J",
        "outputId": "dbe2013f-36be-4c20-e221-b469f57d365b",
        "colab": {
          "base_uri": "https://localhost:8080/"
        }
      },
      "outputs": [
        {
          "output_type": "execute_result",
          "data": {
            "text/plain": [
              "(3, 3)"
            ]
          },
          "metadata": {},
          "execution_count": 17
        }
      ],
      "source": [
        "A.shape"
      ]
    },
    {
      "cell_type": "code",
      "execution_count": null,
      "metadata": {
        "id": "zfqMkhTTCm4K",
        "outputId": "042454c0-22c6-4033-850b-a4c10abcfcae"
      },
      "outputs": [
        {
          "data": {
            "text/plain": [
              "array([[1.63524382, 1.07494141, 1.34365397],\n",
              "       [1.22596319, 1.49433638, 1.34357011],\n",
              "       [1.38035718, 1.33311104, 1.56075353]])"
            ]
          },
          "execution_count": 6,
          "metadata": {},
          "output_type": "execute_result"
        }
      ],
      "source": [
        "for ix, fila in enumerate(A):\n",
        "    fila += 1\n",
        "\n",
        "A"
      ]
    },
    {
      "cell_type": "code",
      "execution_count": null,
      "metadata": {
        "id": "akwI2LRuCm4N",
        "outputId": "ad2f35dc-ba30-4361-b420-1c037f34b347"
      },
      "outputs": [
        {
          "data": {
            "text/plain": [
              "6"
            ]
          },
          "execution_count": 15,
          "metadata": {},
          "output_type": "execute_result"
        }
      ],
      "source": [
        "A = [1, 2, 3, 4, 4, 5, -1]\n",
        "np.argmin(A)\n",
        "# A.index(min(A))"
      ]
    },
    {
      "cell_type": "code",
      "execution_count": null,
      "metadata": {
        "id": "LWgFZ7maCm4Q",
        "outputId": "2a50a0e6-95dc-4463-cedf-d4662f37b56b"
      },
      "outputs": [
        {
          "data": {
            "text/plain": [
              "6"
            ]
          },
          "execution_count": 14,
          "metadata": {},
          "output_type": "execute_result"
        }
      ],
      "source": [
        "A = np.array(A)\n",
        "np.argmin(A)"
      ]
    },
    {
      "cell_type": "code",
      "execution_count": null,
      "metadata": {
        "id": "Yj_PXbv7Cm4R"
      },
      "outputs": [],
      "source": [
        "lista = [(1,1), (2,1),  (3,1)]"
      ]
    },
    {
      "cell_type": "code",
      "execution_count": null,
      "metadata": {
        "id": "ff4ibCiDCm4S",
        "outputId": "28b46a70-05a3-46ed-d68b-93e44fab37dc"
      },
      "outputs": [
        {
          "name": "stdout",
          "output_type": "stream",
          "text": [
            "i = 1, j =1\n",
            "i = 2, j =1\n",
            "i = 3, j =1\n"
          ]
        }
      ],
      "source": [
        "for i,j in lista:\n",
        "    print(f\"{i = }, {j =}\")"
      ]
    },
    {
      "cell_type": "code",
      "execution_count": null,
      "metadata": {
        "id": "ZEC0Gv6tCm4T"
      },
      "outputs": [],
      "source": []
    }
  ],
  "metadata": {
    "kernelspec": {
      "display_name": "Python 3.9.13 ('base')",
      "language": "python",
      "name": "python3"
    },
    "language_info": {
      "codemirror_mode": {
        "name": "ipython",
        "version": 3
      },
      "file_extension": ".py",
      "mimetype": "text/x-python",
      "name": "python",
      "nbconvert_exporter": "python",
      "pygments_lexer": "ipython3",
      "version": "3.9.13"
    },
    "orig_nbformat": 4,
    "vscode": {
      "interpreter": {
        "hash": "4ca65e26d5cd6f4d3970355f3f4026ee914eb24b07a24f652174cffb1be8c52b"
      }
    },
    "colab": {
      "provenance": []
    }
  },
  "nbformat": 4,
  "nbformat_minor": 0
}